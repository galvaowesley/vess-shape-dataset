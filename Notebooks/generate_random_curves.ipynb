{
 "cells": [
  {
   "cell_type": "code",
   "execution_count": 1,
   "metadata": {},
   "outputs": [],
   "source": [
    "import matplotlib.pyplot as plt\n",
    "import sys\n",
    "from vessel_geometry import create_curves\n",
    "import json\n",
    "import random\n",
    "import os\n",
    "import tqdm\n",
    "import pandas as pd"
   ]
  },
  {
   "cell_type": "code",
   "execution_count": 7,
   "metadata": {},
   "outputs": [],
   "source": [
    "directory = \"curves/mask_test/\"\n",
    "\n",
    "if not os.path.exists(directory):\n",
    "    os.makedirs(directory)"
   ]
  },
  {
   "cell_type": "code",
   "execution_count": 8,
   "metadata": {},
   "outputs": [],
   "source": [
    "size = 256 \n",
    "# Set a random seed for reproducibility\n",
    "random.seed(0)\n",
    "\n",
    "# Define the ranges for the parameters\n",
    "n_control_points_range = (2, 15)    # \"complexity\" of the curves\n",
    "max_vd_range = (50.0, 150.0)        # Sets the typical curvature of the curves\n",
    "radius_range = (1, 4)               # Radius of each curve\n",
    "num_curves_range = (1, 15)          # Number of curves to generate"
   ]
  },
  {
   "cell_type": "code",
   "execution_count": 6,
   "metadata": {},
   "outputs": [],
   "source": [
    "all_metadata = []\n",
    "\n",
    "for img in range(100):\n",
    "    \n",
    "    # Generate random numbers for the parameters based on the defined ranges\n",
    "    n_control_points = random.randint(*n_control_points_range)\n",
    "    max_vd = random.uniform(*max_vd_range)\n",
    "    radius = random.randint(*radius_range)\n",
    "    num_curves = random.randint(*num_curves_range)\n",
    "\n",
    "    # Generate a new random image using the create_curves method\n",
    "    img_curves = create_curves(size, n_control_points, max_vd, radius, num_curves)\n",
    "    \n",
    "    images_metadata = {\n",
    "        'file': f'{img}.png',\n",
    "        'size': size,\n",
    "        'n_control_points': n_control_points,\n",
    "        'max_vd': max_vd,\n",
    "        'radius': radius,\n",
    "        'num_curves': num_curves\n",
    "    }\n",
    "    \n",
    "    # Append the metadata to the main dictionary\n",
    "    all_metadata.append(images_metadata)\n",
    "\n",
    "    \n",
    "    # Save the image to a file\n",
    "    plt.imsave(f'{directory}{img}.png', img_curves, cmap='gray')\n",
    "    \n",
    "# Append the metadata\n",
    "with open(f'{directory}metadata.json', 'a') as f:\n",
    "    json.dump(all_metadata, f, indent=4)\n",
    "    f.write('\\n')\n"
   ]
  },
  {
   "cell_type": "code",
   "execution_count": null,
   "metadata": {},
   "outputs": [],
   "source": [
    "size = 256 \n",
    "# Set a random seed for reproducibility\n",
    "random.seed(0)\n",
    "\n",
    "# Define the ranges for the parameters\n",
    "n_control_points_range = (2, 15)    # \"complexity\" of the curves\n",
    "max_vd_range = (50.0, 150.0)        # Sets the typical curvature of the curves\n",
    "radius_range = (1, 4)               # Radius of each curve\n",
    "num_curves_range = (1, 15)          # Number of curves to generate"
   ]
  },
  {
   "cell_type": "code",
   "execution_count": null,
   "metadata": {},
   "outputs": [],
   "source": [
    "import random\n",
    "import json\n",
    "import matplotlib.pyplot as plt\n",
    "import multiprocessing as mp\n",
    "from pathlib import Path\n",
    "from tqdm import tqdm\n",
    "\n",
    "# Supondo que as funções e variáveis `create_curves`, `size`, `n_control_points_range`,\n",
    "# `max_vd_range`, `radius_range`, `num_curves_range` e `directory` estejam previamente definidas\n",
    "\n",
    "# Diretório para salvar as imagens\n",
    "Path(directory).mkdir(parents=True, exist_ok=True)\n",
    "\n",
    "def generate_and_save_image(img):\n",
    "    # Gera parâmetros aleatórios\n",
    "    n_control_points = random.randint(*n_control_points_range)\n",
    "    max_vd = random.uniform(*max_vd_range)\n",
    "    radius = random.randint(*radius_range)\n",
    "    num_curves = random.randint(*num_curves_range)\n",
    "    \n",
    "    # Gera a imagem usando a função create_curves\n",
    "    img_curves = create_curves(size, n_control_points, max_vd, radius, num_curves)\n",
    "    \n",
    "    # Define o nome do arquivo\n",
    "    file_path = f'{directory}{img+70_000}.png'\n",
    "    \n",
    "    # Salva a imagem\n",
    "    plt.imsave(file_path, img_curves, cmap='gray')\n",
    "    \n",
    "    # Retorna os metadados para esse processo\n",
    "    return {\n",
    "        'file': f'{img+70_000}.png',\n",
    "        'size': size,\n",
    "        'n_control_points': n_control_points,\n",
    "        'max_vd': max_vd,\n",
    "        'radius': radius,\n",
    "        'num_curves': num_curves\n",
    "    }\n",
    "\n",
    "# Função principal para realizar a execução paralela\n",
    "if __name__ == \"__main__\":\n",
    "    # Cria um pool de processos\n",
    "    with mp.Pool(mp.cpu_count()) as pool:\n",
    "        with tqdm(total=30_000, desc=\"Generating imagens\") as pbar:\n",
    "            all_metadata = []\n",
    "            for result in pool.imap_unordered(generate_and_save_image, range(30_000)):\n",
    "                all_metadata.append(result)\n",
    "                pbar.update(1)\n",
    "    \n",
    "    # Salva todos os metadados em um arquivo JSON\n",
    "    with open(f'{directory}metadata.json', 'w') as f:\n",
    "        json.dump(all_metadata, f, indent=4)\n"
   ]
  },
  {
   "cell_type": "code",
   "execution_count": 1,
   "metadata": {},
   "outputs": [],
   "source": [
    "import json\n",
    "\n",
    "# Carrega os metadados\n",
    "with open(f'{'curves/metadata/images_metadata.json'}', 'r') as f:\n",
    "    metadata = json.load(f)"
   ]
  },
  {
   "cell_type": "code",
   "execution_count": 5,
   "metadata": {},
   "outputs": [],
   "source": [
    "# Ordena os metadados por 'file', mas considerando que o nome do arquivo é um número, portanto, a ordenação será numérica\n",
    "metadata = sorted(metadata, key=lambda x: int(x['file_name'].split('.')[0]))\n",
    "metadata\n",
    "\n",
    "# salva\n",
    "with open(f'{'curves/metadata/images_metadata.json'}', 'w') as f:\n",
    "    json.dump(metadata, f, indent=4)"
   ]
  },
  {
   "cell_type": "code",
   "execution_count": null,
   "metadata": {},
   "outputs": [],
   "source": []
  }
 ],
 "metadata": {
  "kernelspec": {
   "display_name": "mestrado_rapids",
   "language": "python",
   "name": "python3"
  },
  "language_info": {
   "codemirror_mode": {
    "name": "ipython",
    "version": 3
   },
   "file_extension": ".py",
   "mimetype": "text/x-python",
   "name": "python",
   "nbconvert_exporter": "python",
   "pygments_lexer": "ipython3",
   "version": "3.12.7"
  }
 },
 "nbformat": 4,
 "nbformat_minor": 2
}
